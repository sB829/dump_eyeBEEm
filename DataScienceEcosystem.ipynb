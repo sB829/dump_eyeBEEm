{
  "metadata": {
    "language_info": {
      "codemirror_mode": {
        "name": "python",
        "version": 3
      },
      "file_extension": ".py",
      "mimetype": "text/x-python",
      "name": "python",
      "nbconvert_exporter": "python",
      "pygments_lexer": "ipython3",
      "version": "3.8"
    },
    "kernelspec": {
      "name": "python",
      "display_name": "Python (Pyodide)",
      "language": "python"
    }
  },
  "nbformat_minor": 4,
  "nbformat": 4,
  "cells": [
    {
      "cell_type": "code",
      "source": "# Data Science Tools and Ecosystem\n## In this notebook, Data Science Tools and Ecosystem are enumerated.\n### > Popular data science languages include:\n#### 1. Scala\n#### 1. R\n#### 1. Python\n#### 1. SQL\n### > Popular data science libaries include:\n#### 1. Pandas\n#### 1. Seaborn\n#### 1. Scikit\n#### 1. Pytorch\n## Tools\n#|Name|Environment|\n#|----|-----------|\n#|Rstudio|client/server|\n#|GitHub|server|\n(3*4)+5",
      "metadata": {
        "trusted": true
      },
      "execution_count": 4,
      "outputs": [
        {
          "execution_count": 4,
          "output_type": "execute_result",
          "data": {
            "text/plain": "17"
          },
          "metadata": {}
        }
      ]
    },
    {
      "cell_type": "code",
      "source": "# simple arithmetic\n# time conversion without remainder in hours",
      "metadata": {
        "trusted": true
      },
      "execution_count": 7,
      "outputs": []
    },
    {
      "cell_type": "code",
      "source": "200//60",
      "metadata": {
        "trusted": true
      },
      "execution_count": 9,
      "outputs": [
        {
          "execution_count": 9,
          "output_type": "execute_result",
          "data": {
            "text/plain": "3"
          },
          "metadata": {}
        }
      ]
    },
    {
      "cell_type": "code",
      "source": "##**Objectives**\n### - recall data science languages\n### - recall data science tools\n### - understand Rstudio and GitHub fnuctions in data science\n### - use Jupyter notebooks\n# Author\n##S Beers",
      "metadata": {
        "trusted": true
      },
      "execution_count": 11,
      "outputs": []
    },
    {
      "cell_type": "code",
      "source": "",
      "metadata": {},
      "execution_count": null,
      "outputs": []
    }
  ]
}